{
  "nbformat": 4,
  "nbformat_minor": 0,
  "metadata": {
    "colab": {
      "provenance": []
    },
    "kernelspec": {
      "name": "python3",
      "display_name": "Python 3"
    },
    "language_info": {
      "name": "python"
    }
  },
  "cells": [
    {
      "cell_type": "code",
      "execution_count": 2,
      "metadata": {
        "id": "e1Xcfbrl9Lm4"
      },
      "outputs": [],
      "source": [
        "import pickle\n",
        "\n",
        "repositorio = {\n",
        "    1: ['04/11/2023 15:00', 'Inteligencia Artificial en los Negocios', 'Dr. Alvaro Francisco Salazar', 'A', 0],\n",
        "    2: ['05/11/2023 09:00', 'Uso de la nube para gestión de procesos', 'Dr. Manuel Leos', 'B', 0],\n",
        "    3: ['05/11/2023 14:00', 'Industria 4.0 retos y oportunidades', 'Dra. Monica Hernández', 'C', 20],\n",
        "    4: ['05/11/2023 19:00', 'Machine Learning for a better world', 'Dr. Janick Jameson', 'C', 0],\n",
        "    5: ['06/11/2023 15:00', 'Retos de la Banca Electrónica en México', 'Ing. Clara Benavides', 'A', 0]\n",
        "}\n",
        "\n",
        "# Serializar datos y guardar en un archivo\n",
        "with open('repositorio.pkl', 'wb') as archivo:\n",
        "    pickle.dump(repositorio,archivo)"
      ]
    }
  ]
}